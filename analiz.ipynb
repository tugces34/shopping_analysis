{
 "cells": [
  {
   "metadata": {},
   "cell_type": "markdown",
   "source": [
    "# This is a sample Jupyter Notebook\n",
    "\n",
    "Below is an example of a code cell. \n",
    "Put your cursor into the cell and press Shift+Enter to execute it and select the next one, or click 'Run Cell' button.\n",
    "\n",
    "Press Double Shift to search everywhere for classes, files, tool windows, actions, and settings.\n",
    "\n",
    "To learn more about Jupyter Notebooks in PyCharm, see [help](https://www.jetbrains.com/help/pycharm/ipython-notebook-support.html).\n",
    "For an overview of PyCharm, go to Help -> Learn IDE features or refer to [our documentation](https://www.jetbrains.com/help/pycharm/getting-started.html)."
   ],
   "id": "8a77807f92f26ee"
  },
  {
   "metadata": {
    "ExecuteTime": {
     "end_time": "2025-05-15T11:13:41.927567Z",
     "start_time": "2025-05-15T11:13:41.923569Z"
    }
   },
   "cell_type": "code",
   "source": [
    "import numpy as np\n",
    "import pandas as pd\n",
    "import openpyxl\n",
    "import matplotlib.pyplot as plt\n",
    "import seaborn as sns\n"
   ],
   "id": "fbc121e30a2defb3",
   "outputs": [],
   "execution_count": 265
  },
  {
   "metadata": {
    "ExecuteTime": {
     "end_time": "2025-05-15T11:13:42.352776Z",
     "start_time": "2025-05-15T11:13:41.934077Z"
    }
   },
   "cell_type": "code",
   "source": [
    "#1-\tVeri setini okuyun.\n",
    "df1=pd.read_csv(\"sales_data.csv\")\n",
    "df2=pd.read_csv(\"customer_data.csv\")\n",
    "\n",
    "\n",
    "# ID sütunu üzerinden birleştir (yan yana ekleme)\n",
    "birlesik_df = pd.merge(df1, df2, on=\"customer_id\", how=\"inner\")  # outer, left, right da kullanılabilir\n",
    "\n",
    "birlesik_df.to_csv(\"birlesik_dosya.csv\", index=False, encoding='utf-8-sig')"
   ],
   "id": "ddf603bec258921e",
   "outputs": [],
   "execution_count": 266
  },
  {
   "metadata": {
    "ExecuteTime": {
     "end_time": "2025-05-15T11:20:32.464883Z",
     "start_time": "2025-05-15T11:20:32.329532Z"
    }
   },
   "cell_type": "code",
   "source": [
    "\n",
    "#1-\tVeri setini okuyun.\n",
    "df=pd.read_csv(\"birlesik_dosya.csv\")\n",
    "#2-\tİlk 20 veri\n",
    "print(df.head(20))"
   ],
   "id": "828d5a61bb677e10",
   "outputs": [
    {
     "name": "stdout",
     "output_type": "stream",
     "text": [
      "   invoice_no customer_id         category  quantity    price invoice_date  \\\n",
      "0     I138884     C241288         Clothing         5  1500.40   05-08-2022   \n",
      "1     I317333     C111565            Shoes         3  1800.51   12-12-2021   \n",
      "2     I127801     C266599         Clothing         1   300.08   09-11-2021   \n",
      "3     I173702     C988172            Shoes         5  3000.85   16-05-2021   \n",
      "4     I337046     C189076            Books         4    60.60   24-10-2021   \n",
      "5     I227836     C657758         Clothing         5  1500.40   24-05-2022   \n",
      "6     I121056     C151197        Cosmetics         1    40.66   13-03-2022   \n",
      "7     I293112     C176086         Clothing         2   600.16   13-01-2021   \n",
      "8     I293455     C159642         Clothing         3   900.24   04-11-2021   \n",
      "9     I326945     C283361         Clothing         2   600.16   22-08-2021   \n",
      "10    I306368     C240286  Food & Beverage         2    10.46   25-12-2022   \n",
      "11    I139207     C191708            Books         1    15.15   28-10-2022   \n",
      "12    I640508     C225330             Toys         4   143.36   31-07-2022   \n",
      "13    I179802     C312861         Clothing         2   600.16   17-11-2022   \n",
      "14    I336189     C555402         Clothing         2   600.16   03-06-2022   \n",
      "15    I688768     C362288            Shoes         5  3000.85   07-11-2021   \n",
      "16    I294687     C300786            Books         2    30.30   16-01-2021   \n",
      "17    I195744     C330667  Food & Beverage         3    15.69   05-01-2022   \n",
      "18    I993048     C218149         Clothing         2   600.16   26-07-2021   \n",
      "19    I992454     C196845             Toys         4   143.36   07-03-2023   \n",
      "\n",
      "        shopping_mall  gender   age payment_method  \n",
      "0              Kanyon  Female  28.0    Credit Card  \n",
      "1      Forum Istanbul    Male  21.0     Debit Card  \n",
      "2           Metrocity    Male  20.0           Cash  \n",
      "3        Metropol AVM  Female  66.0    Credit Card  \n",
      "4              Kanyon  Female  53.0           Cash  \n",
      "5      Forum Istanbul  Female  28.0    Credit Card  \n",
      "6        Istinye Park  Female  49.0           Cash  \n",
      "7    Mall of Istanbul  Female  32.0    Credit Card  \n",
      "8           Metrocity    Male  69.0    Credit Card  \n",
      "9              Kanyon  Female  60.0    Credit Card  \n",
      "10          Metrocity  Female  36.0           Cash  \n",
      "11  Emaar Square Mall  Female  29.0    Credit Card  \n",
      "12          Metrocity  Female  67.0     Debit Card  \n",
      "13        Cevahir AVM    Male  25.0           Cash  \n",
      "14             Kanyon  Female  67.0    Credit Card  \n",
      "15     Viaport Outlet    Male  24.0    Credit Card  \n",
      "16          Metrocity    Male  65.0     Debit Card  \n",
      "17       Zorlu Center  Female  42.0    Credit Card  \n",
      "18       Metropol AVM  Female  46.0           Cash  \n",
      "19        Cevahir AVM    Male  24.0           Cash  \n"
     ]
    }
   ],
   "execution_count": 285
  },
  {
   "metadata": {
    "ExecuteTime": {
     "end_time": "2025-05-15T11:13:42.550504Z",
     "start_time": "2025-05-15T11:13:42.546528Z"
    }
   },
   "cell_type": "code",
   "source": [
    "# Satır ve sütun sayısını gösterir\n",
    "df.shape"
   ],
   "id": "5e922b289f18c73d",
   "outputs": [
    {
     "data": {
      "text/plain": [
       "(99457, 10)"
      ]
     },
     "execution_count": 268,
     "metadata": {},
     "output_type": "execute_result"
    }
   ],
   "execution_count": 268
  },
  {
   "metadata": {
    "ExecuteTime": {
     "end_time": "2025-05-15T11:22:20.012544Z",
     "start_time": "2025-05-15T11:22:20.004113Z"
    }
   },
   "cell_type": "code",
   "source": "df[\"price\"].fillna(df.price.mean())",
   "id": "2dc9896b65a37e4c",
   "outputs": [
    {
     "data": {
      "text/plain": [
       "0        1500.40\n",
       "1        1800.51\n",
       "2         300.08\n",
       "3        3000.85\n",
       "4          60.60\n",
       "          ...   \n",
       "99452      58.65\n",
       "99453      10.46\n",
       "99454      10.46\n",
       "99455    4200.00\n",
       "99456      35.19\n",
       "Name: price, Length: 99457, dtype: float64"
      ]
     },
     "execution_count": 287,
     "metadata": {},
     "output_type": "execute_result"
    }
   ],
   "execution_count": 287
  },
  {
   "metadata": {
    "ExecuteTime": {
     "end_time": "2025-05-15T11:13:42.575074Z",
     "start_time": "2025-05-15T11:13:42.570955Z"
    }
   },
   "cell_type": "code",
   "source": [
    "# Veri setindeki sütun adlarını görüntüleyin\n",
    "print(df.columns)"
   ],
   "id": "514ba33c7264f091",
   "outputs": [
    {
     "name": "stdout",
     "output_type": "stream",
     "text": [
      "Index(['invoice_no', 'customer_id', 'category', 'quantity', 'price',\n",
      "       'invoice_date', 'shopping_mall', 'gender', 'age', 'payment_method'],\n",
      "      dtype='object')\n"
     ]
    }
   ],
   "execution_count": 269
  },
  {
   "metadata": {
    "ExecuteTime": {
     "end_time": "2025-05-15T11:13:42.713500Z",
     "start_time": "2025-05-15T11:13:42.596066Z"
    }
   },
   "cell_type": "code",
   "source": [
    "# Salary sutunundaki 0 ve 1'in dağılımını gösteren histogram\n",
    "sns.histplot(df['price'], kde=False, bins=2, color='blue')\n",
    "plt.title('Salary Sütununda 0 ve 1 Dağılımı')\n",
    "plt.xlabel('Değerler')\n",
    "plt.ylabel('Frekans')\n",
    "plt.show()"
   ],
   "id": "10efdd2e7d2d22a5",
   "outputs": [
    {
     "data": {
      "text/plain": [
       "<Figure size 640x480 with 1 Axes>"
      ],
      "image/png": "[encoded data removed]"
     },
     "metadata": {},
     "output_type": "display_data"
    }
   ],
   "execution_count": 270
  },
  {
   "metadata": {
    "ExecuteTime": {
     "end_time": "2025-05-15T11:13:43.025833Z",
     "start_time": "2025-05-15T11:13:42.734853Z"
    }
   },
   "cell_type": "code",
   "source": [
    "color= [\"#FF6F61\", \"#6B5B95\", \"#88B04B\", \"#F7CAC9\",\"#92A8D1\", \"#955251\", \"#B565A7\", \"#009B77\"]\n",
    "sns.countplot(x=\"gender\", hue=\"category\", data=df, palette=color)\n",
    "plt.show()"
   ],
   "id": "980b103050d66d1e",
   "outputs": [
    {
     "data": {
      "text/plain": [
       "<Figure size 640x480 with 1 Axes>"
      ],
      "image/png": "[encoded data removed]"
     },
     "metadata": {},
     "output_type": "display_data"
    }
   ],
   "execution_count": 271
  },
  {
   "metadata": {
    "ExecuteTime": {
     "end_time": "2025-05-15T11:13:43.050803Z",
     "start_time": "2025-05-15T11:13:43.045977Z"
    }
   },
   "cell_type": "code",
   "source": [
    "# 5-Tüm parametrelerin veri türlerini görüntüleyin.\n",
    "print(df.dtypes)"
   ],
   "id": "19df117fb094e2ab",
   "outputs": [
    {
     "name": "stdout",
     "output_type": "stream",
     "text": [
      "invoice_no         object\n",
      "customer_id        object\n",
      "category           object\n",
      "quantity            int64\n",
      "price             float64\n",
      "invoice_date       object\n",
      "shopping_mall      object\n",
      "gender             object\n",
      "age               float64\n",
      "payment_method     object\n",
      "dtype: object\n"
     ]
    }
   ],
   "execution_count": 272
  },
  {
   "metadata": {
    "ExecuteTime": {
     "end_time": "2025-05-15T11:13:43.088373Z",
     "start_time": "2025-05-15T11:13:43.072743Z"
    }
   },
   "cell_type": "code",
   "source": [
    "#6-\tVeri seti hakkında istatistiksel bilgileri gösterin.\n",
    "print(df.describe())"
   ],
   "id": "cfaad49697300956",
   "outputs": [
    {
     "name": "stdout",
     "output_type": "stream",
     "text": [
      "           quantity         price           age\n",
      "count  99457.000000  99457.000000  99338.000000\n",
      "mean       3.003429    689.256321     43.425859\n",
      "std        1.413025    941.184567     14.989400\n",
      "min        1.000000      5.230000     18.000000\n",
      "25%        2.000000     45.450000     30.000000\n",
      "50%        3.000000    203.300000     43.000000\n",
      "75%        4.000000   1200.320000     56.000000\n",
      "max        5.000000   5250.000000     69.000000\n"
     ]
    }
   ],
   "execution_count": 273
  },
  {
   "metadata": {
    "ExecuteTime": {
     "end_time": "2025-05-15T11:13:43.209958Z",
     "start_time": "2025-05-15T11:13:43.108442Z"
    }
   },
   "cell_type": "code",
   "source": "print(df.describe(include='object'))",
   "id": "f054a2af847dfe2a",
   "outputs": [
    {
     "name": "stdout",
     "output_type": "stream",
     "text": [
      "       invoice_no customer_id  category invoice_date     shopping_mall  \\\n",
      "count       99457       99457     99457        99457             99457   \n",
      "unique      99457       99457         8          797                10   \n",
      "top       I232867     C273973  Clothing   24-11-2021  Mall of Istanbul   \n",
      "freq            1           1     34487          159             19943   \n",
      "\n",
      "        gender payment_method  \n",
      "count    99457          99457  \n",
      "unique       2              3  \n",
      "top     Female           Cash  \n",
      "freq     59482          44447  \n"
     ]
    }
   ],
   "execution_count": 274
  },
  {
   "metadata": {
    "ExecuteTime": {
     "end_time": "2025-05-15T11:13:43.253631Z",
     "start_time": "2025-05-15T11:13:43.232632Z"
    }
   },
   "cell_type": "code",
   "source": [
    "#7-\tVerisetinde eksik verileri gösterin.\n",
    "print(df.isnull().sum())"
   ],
   "id": "d71e4f66431b5e66",
   "outputs": [
    {
     "name": "stdout",
     "output_type": "stream",
     "text": [
      "invoice_no          0\n",
      "customer_id         0\n",
      "category            0\n",
      "quantity            0\n",
      "price               0\n",
      "invoice_date        0\n",
      "shopping_mall       0\n",
      "gender              0\n",
      "age               119\n",
      "payment_method      0\n",
      "dtype: int64\n"
     ]
    }
   ],
   "execution_count": 275
  },
  {
   "metadata": {
    "ExecuteTime": {
     "end_time": "2025-05-15T11:13:43.299040Z",
     "start_time": "2025-05-15T11:13:43.272148Z"
    }
   },
   "cell_type": "code",
   "source": [
    "#8-\tVerisetinde eksik veri  olduğunu varsayarak, problemin çözümü gösterin.\n",
    "# Eksik veriye sahip satırları sil\n",
    "df_cleaned1 = df.dropna(axis=0)\n"
   ],
   "id": "dc7e0484cfbc50cb",
   "outputs": [],
   "execution_count": 276
  },
  {
   "metadata": {
    "ExecuteTime": {
     "end_time": "2025-05-15T11:13:43.345896Z",
     "start_time": "2025-05-15T11:13:43.319388Z"
    }
   },
   "cell_type": "code",
   "source": [
    "# Eksik veriye sahip sütunları sil\n",
    "df_cleaned = df.dropna(axis=1)"
   ],
   "id": "553d9b1113ba857e",
   "outputs": [],
   "execution_count": 277
  },
  {
   "metadata": {
    "ExecuteTime": {
     "end_time": "2025-05-15T11:13:43.371416Z",
     "start_time": "2025-05-15T11:13:43.366409Z"
    }
   },
   "cell_type": "code",
   "source": [
    "#9-\tVerisetindeki AGE kolonunun ortalamasını bulun\n",
    "average_age = df['age'].mean()\n",
    "print(f\"Age sütununun ortalaması: {average_age}\")"
   ],
   "id": "b31c36f25735ee54",
   "outputs": [
    {
     "name": "stdout",
     "output_type": "stream",
     "text": [
      "Age sütununun ortalaması: 43.42585918782339\n"
     ]
    }
   ],
   "execution_count": 278
  },
  {
   "metadata": {
    "ExecuteTime": {
     "end_time": "2025-05-15T11:13:43.397362Z",
     "start_time": "2025-05-15T11:13:43.392363Z"
    }
   },
   "cell_type": "code",
   "source": [
    "#10-Verisetindeki price kolonunda en yüksek değeri bulun\n",
    "max_price = df['price'].max()\n",
    "print(f\"price sütununun en yüksek değeri: {max_price}\")"
   ],
   "id": "70bc8bfa77445e99",
   "outputs": [
    {
     "name": "stdout",
     "output_type": "stream",
     "text": [
      "price sütununun en yüksek değeri: 5250.0\n"
     ]
    }
   ],
   "execution_count": 279
  },
  {
   "metadata": {
    "ExecuteTime": {
     "end_time": "2025-05-15T11:13:43.426104Z",
     "start_time": "2025-05-15T11:13:43.416740Z"
    }
   },
   "cell_type": "code",
   "source": [
    "# 11-Gender sütununa göre price sütununun ortalamasını bulma\n",
    "average_salary_by_gender = df.groupby('gender')['price'].mean()\n",
    "print(average_salary_by_gender)"
   ],
   "id": "ee3a4e6ed2f47f40",
   "outputs": [
    {
     "name": "stdout",
     "output_type": "stream",
     "text": [
      "gender\n",
      "Female    688.137615\n",
      "Male      690.920933\n",
      "Name: price, dtype: float64\n"
     ]
    }
   ],
   "execution_count": 280
  },
  {
   "metadata": {
    "ExecuteTime": {
     "end_time": "2025-05-15T11:13:43.452754Z",
     "start_time": "2025-05-15T11:13:43.444754Z"
    }
   },
   "cell_type": "code",
   "source": [
    "#12-Kategorik verilerden oluşan kolonda 'Experience_Years'\n",
    "#kaç farklı veri olduğunu bulun.\n",
    "unique_category_count = df['category'].nunique()\n",
    "print(f\"category sütununda {unique_category_count} farklı değer var.\")"
   ],
   "id": "871253a73c194a6c",
   "outputs": [
    {
     "name": "stdout",
     "output_type": "stream",
     "text": [
      "category sütununda 8 farklı değer var.\n"
     ]
    }
   ],
   "execution_count": 281
  },
  {
   "metadata": {
    "ExecuteTime": {
     "end_time": "2025-05-15T11:13:43.569752Z",
     "start_time": "2025-05-15T11:13:43.476387Z"
    }
   },
   "cell_type": "code",
   "source": [
    "#Korelasyon matrisini oluştur\n",
    "numerical_df = df.select_dtypes(include=[np.number])\n",
    "correlation_matrix = numerical_df.corr()\n",
    "plt.figure(figsize=(10, 8))\n",
    "sns.heatmap(correlation_matrix, annot=True, cmap='coolwarm', fmt='.2f', linewidths=0.5)\n",
    "plt.title('Korelasyon Matrisi')\n",
    "plt.show()"
   ],
   "id": "9a2ca35d0461c2ec",
   "outputs": [
    {
     "data": {
      "text/plain": [
       "<Figure size 1000x800 with 2 Axes>"
      ],
      "image/png": "[encoded data removed]"
     },
     "metadata": {},
     "output_type": "display_data"
    }
   ],
   "execution_count": 282
  },
  {
   "metadata": {
    "ExecuteTime": {
     "end_time": "2025-05-15T11:13:43.599080Z",
     "start_time": "2025-05-15T11:13:43.590428Z"
    }
   },
   "cell_type": "code",
   "source": [
    "# Bağımlı değişkeni (y) ve bağımsız değişkenleri (X) ayırma\n",
    "X = df[['category', 'age', 'gender']]  # Bağımsız değişkenler\n",
    "y = df['price']  # Bağımlı değişken (Salary)\n",
    "print(\"Bağımsız değişkenler (X):\")\n",
    "print(X.head())\n",
    "print(\"\\nBağımlı değişken (y):\")\n",
    "print(y.head())"
   ],
   "id": "44025ac0116b04cb",
   "outputs": [
    {
     "name": "stdout",
     "output_type": "stream",
     "text": [
      "Bağımsız değişkenler (X):\n",
      "   category   age  gender\n",
      "0  Clothing  28.0  Female\n",
      "1     Shoes  21.0    Male\n",
      "2  Clothing  20.0    Male\n",
      "3     Shoes  66.0  Female\n",
      "4     Books  53.0  Female\n",
      "\n",
      "Bağımlı değişken (y):\n",
      "0    1500.40\n",
      "1    1800.51\n",
      "2     300.08\n",
      "3    3000.85\n",
      "4      60.60\n",
      "Name: price, dtype: float64\n"
     ]
    }
   ],
   "execution_count": 283
  },
  {
   "metadata": {
    "ExecuteTime": {
     "end_time": "2025-05-15T11:13:43.629335Z",
     "start_time": "2025-05-15T11:13:43.618235Z"
    }
   },
   "cell_type": "code",
   "source": [
    "#15-Veri setini test ve train (eğitim) olarak ayırın.\n",
    "from sklearn.model_selection import train_test_split\n",
    "X_train, X_test, y_train, y_test = train_test_split(X, y, test_size=0.2, random_state=42)\n",
    "print(f\"Eğitim veri seti boyutu (X_train, y_train): {X_train.shape}\")\n",
    "print(f\"Test veri seti boyutu (X_test, y_test): {X_test.shape}\")"
   ],
   "id": "ba8659c8c3f288e",
   "outputs": [
    {
     "name": "stdout",
     "output_type": "stream",
     "text": [
      "Eğitim veri seti boyutu (X_train, y_train): (79565, 3)\n",
      "Test veri seti boyutu (X_test, y_test): (19892, 3)\n"
     ]
    }
   ],
   "execution_count": 284
  },
  {
   "metadata": {
    "ExecuteTime": {
     "end_time": "2025-05-15T11:13:43.651647Z",
     "start_time": "2025-05-15T11:13:43.649427Z"
    }
   },
   "cell_type": "code",
   "source": "\n",
   "id": "f80b30b8d52f8f46",
   "outputs": [],
   "execution_count": 284
  }
 ],
 "metadata": {
  "kernelspec": {
   "display_name": "Python 3",
   "language": "python",
   "name": "python3"
  },
  "language_info": {
   "codemirror_mode": {
    "name": "ipython",
    "version": 2
   },
   "file_extension": ".py",
   "mimetype": "text/x-python",
   "name": "python",
   "nbconvert_exporter": "python",
   "pygments_lexer": "ipython2",
   "version": "2.7.6"
  }
 },
 "nbformat": 4,
 "nbformat_minor": 5
}
